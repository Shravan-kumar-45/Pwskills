{
  "nbformat": 4,
  "nbformat_minor": 0,
  "metadata": {
    "colab": {
      "provenance": []
    },
    "kernelspec": {
      "name": "python3",
      "display_name": "Python 3"
    },
    "language_info": {
      "name": "python"
    }
  },
  "cells": [
    {
      "cell_type": "code",
      "execution_count": null,
      "metadata": {
        "id": "WinU53146h-b"
      },
      "outputs": [],
      "source": []
    },
    {
      "cell_type": "markdown",
      "source": [
        "**1. What are data structures, and why are they important?**\n",
        "\n",
        "**Ans:-**Data structures are ways of organizing and storing data in a computer so that it can be accessed and modified efficiently. They are important because they help in organizing data, optimizing operations like searching, sorting, and retrieving data, and enhancing performance for different algorithms.\n",
        "\n",
        "**2. Explain the difference between mutable and immutable data types with examples?**\n",
        "\n",
        "**Ans:-**A mutable data type can be changed after it is created. Examples include lists and dictionaries.\n",
        "\n",
        "An immutable data type cannot be changed after it is created. Examples include strings and tuples.\n",
        "\n",
        "**3. What are the main differences between lists and tuples in Python?**\n",
        "\n",
        "**Ans:-**Lists are mutable (can be modified), ordered, and can contain duplicate elements.\n",
        "\n",
        "Tuples are immutable (cannot be modified), ordered, and can contain duplicate elements.\n",
        "\n",
        "**4. Describe how dictionaries store data?**\n",
        "\n",
        "**Ans:-**Dictionaries store data as key-value pairs. Each key is unique, and it maps to a specific value. They provide fast lookup times using hashing.\n",
        "\n",
        "EX:- my_dict = {\"apple\": 1, \"banana\": 2}\n",
        "\n",
        "**5. Why might you use a set instead of a list in Python?**\n",
        "\n",
        "**Ans:-**You might use a set when you want to ensure that there are no duplicate elements and when you need faster membership tests (checking if an element is in the set).\n",
        "\n",
        "**6. What is a string in Python, and how is it different from a list?**\n",
        "\n",
        "**Ans:-**A string is a sequence of characters, while a list is a collection of items that can be of different types. Strings are immutable, whereas lists are mutable.\n",
        "\n",
        "**7. How do tuples ensure data integrity in Python?**\n",
        "\n",
        "**Ans:-**Tuples are immutable, meaning once created, their contents cannot be altered. This ensures data integrity by preventing accidental modifications.\n",
        "\n",
        "**8. What is a hash table, and how does it relate to dictionaries in Python?**\n",
        "\n",
        "**Ans:-**A hash table is a data structure that stores key-value pairs and uses a hash function to compute an index into an array of buckets or slots, from which the desired value can be found. In Python, dictionaries are implemented using hash tables.\n",
        "\n",
        "**9. Can lists contain different data types in Python?**\n",
        "\n",
        "**Ans:-**Yes, lists in Python can contain elements of different data types (e.g., integers, strings, and other lists).\n",
        "\n",
        "**10. Explain why strings are immutable in Python.**\n",
        "\n",
        "**Ans:-**Strings are immutable in Python to ensure efficiency, especially in operations that involve concatenating strings. Since strings are often used frequently in programs, immutability helps to avoid unnecessary memory consumption from creating multiple copies of strings.\n",
        "\n",
        "**11. What advantages do dictionaries offer over lists for certain tasks?**\n",
        "\n",
        "**Ans:-**Dictionaries offer faster lookups (O(1) time complexity) compared to lists, which require O(n) time to search for an item. They are also more intuitive for mapping relationships between keys and values.\n",
        "\n",
        "**12. Describe a scenario where using a tuple would be preferable over a list.**\n",
        "\n",
        "**Ans:-**If you need a collection of elements that should not be modified (e.g., coordinates, eployee id , aadhar), using a tuple would be preferable since it's immutable.\n",
        "\n",
        "**13. How do sets handle duplicate values in Python?**\n",
        "\n",
        "**Ans:-**Sets automatically remove duplicate values. If you try to add a duplicate value to a set, it will be ignored.\n",
        "\n",
        "Ex:- my_set = {1, 2, 2, 3}  # Result will be {1, 2, 3}\n",
        "\n",
        "\n",
        "**14. How does the “in” keyword work differently for lists and dictionaries?**\n",
        "\n",
        "**Ans:-**In lists, in checks if a value exists as an element.\n",
        "In dictionaries, in checks if a key exists.\n",
        "\n",
        "**15. Can you modify the elements of a tuple? Explain why or why not.**\n",
        "\n",
        "**Ans:-**No, you cannot modify the elements of a tuple because tuples are immutable.\n",
        "\n",
        "**16. What is a nested dictionary, and give an example of its use case?**\n",
        "\n",
        "**Ans:-**A nested dictionary is a dictionary that contains other dictionaries as values. It is useful for representing hierarchical data.\n",
        "\n",
        "Ex:-nested_dict = {\"student\": {\"name\": \"John\", \"age\": 20}}\n",
        "\n",
        "**17. Describe the time complexity of accessing elements in a dictionary.**\n",
        "\n",
        "**Ans:-**Accessing elements in a dictionary is O(1) on average, as it uses a hash table for quick lookups.\n",
        "\n",
        "**18. In what situations are lists preferred over dictionaries?**\n",
        "\n",
        "**Ans:-**Lists are preferred when you need to store an ordered collection of items and when indexing by position is more useful than key-based lookup.\n",
        "\n",
        "**19. Why are dictionaries considered unordered, and how does that affect data retrieval?**\n",
        "\n",
        "**Ans:-**Dictionaries are unordered because they are implemented using hash tables, and their elements are not stored in a fixed order. However, data retrieval is still fast because of the key-based access, but the order of elements is not guaranteed.\n",
        "\n",
        "**20. Explain the difference between a list and a dictionary in terms of data retrieval.**\n",
        "\n",
        "**Ans:-**In lists, data is retrieved using an index (e.g., list[0]).\n",
        "\n",
        "In dictionaries, data is retrieved using a key (e.g., dict[\"key\"])."
      ],
      "metadata": {
        "id": "VdIMrMIW6nSp"
      }
    },
    {
      "cell_type": "markdown",
      "source": [
        "**Practical Questions**"
      ],
      "metadata": {
        "id": "We3d-QnG-u3U"
      }
    },
    {
      "cell_type": "code",
      "source": [
        "#1.Write a code to create a string with your name and print it.\n",
        "\n",
        "name = \"Shravan Kumar\"\n",
        "print(name)\n",
        "\n"
      ],
      "metadata": {
        "colab": {
          "base_uri": "https://localhost:8080/"
        },
        "id": "pRYXKT5u-3bp",
        "outputId": "a3065cb3-6bff-4271-c4fa-c5d46162358a"
      },
      "execution_count": 1,
      "outputs": [
        {
          "output_type": "stream",
          "name": "stdout",
          "text": [
            "Shravan Kumar\n"
          ]
        }
      ]
    },
    {
      "cell_type": "code",
      "source": [
        "#2.Write a code to find the length of the string \"Hello World\".\n",
        "\n",
        "string = \"papefaihghsjvandjfenvdjgahj\"\n",
        "print(len(string))\n",
        "\n"
      ],
      "metadata": {
        "colab": {
          "base_uri": "https://localhost:8080/"
        },
        "id": "jbe4BYfn-77P",
        "outputId": "841379ab-a80c-46a9-f058-e778847f9b00"
      },
      "execution_count": 3,
      "outputs": [
        {
          "output_type": "stream",
          "name": "stdout",
          "text": [
            "27\n"
          ]
        }
      ]
    },
    {
      "cell_type": "code",
      "source": [
        "#3.Write a code to slice the first 3 characters from the string \"Python Programming\".\n",
        "\n",
        "string = \"Chutiya Programming\"\n",
        "print(string[:3])\n",
        "\n",
        ""
      ],
      "metadata": {
        "colab": {
          "base_uri": "https://localhost:8080/"
        },
        "id": "D4yw16wc-7x1",
        "outputId": "cd6b4257-aae1-4a04-ac17-dc340675b579"
      },
      "execution_count": 4,
      "outputs": [
        {
          "output_type": "stream",
          "name": "stdout",
          "text": [
            "Chu\n"
          ]
        }
      ]
    },
    {
      "cell_type": "code",
      "source": [
        "#4.Write a code to convert the string \"hello\" to uppercase.\n",
        "\n",
        "string = \"urkfdvaksnreavlkknvad\"\n",
        "print(string.upper())\n"
      ],
      "metadata": {
        "colab": {
          "base_uri": "https://localhost:8080/"
        },
        "id": "hkAVpHmL-7o-",
        "outputId": "8ea7dd8e-f3c5-4fe6-d199-f38d8c3045b7"
      },
      "execution_count": 5,
      "outputs": [
        {
          "output_type": "stream",
          "name": "stdout",
          "text": [
            "URKFDVAKSNREAVLKKNVAD\n"
          ]
        }
      ]
    },
    {
      "cell_type": "code",
      "source": [
        "#5.Write a code to replace the word \"apple\" with \"orange\" in the string \"I like apple\".\n",
        "string = \"I like apple\"\n",
        "new_string = string.replace(\"apple\", \"orange\")\n",
        "print(new_string)\n",
        "\n",
        ""
      ],
      "metadata": {
        "colab": {
          "base_uri": "https://localhost:8080/"
        },
        "id": "kOwORHNH-7hJ",
        "outputId": "50428d84-0b3f-4d49-afaa-82f07f1224d1"
      },
      "execution_count": 6,
      "outputs": [
        {
          "output_type": "stream",
          "name": "stdout",
          "text": [
            "I like orange\n"
          ]
        }
      ]
    },
    {
      "cell_type": "code",
      "source": [
        "#6.Write a code to create a list with numbers 1 to 5 and print it.\n",
        "\n",
        "numbers = [1, 2, 3, 4, 5]\n",
        "print(numbers)"
      ],
      "metadata": {
        "colab": {
          "base_uri": "https://localhost:8080/"
        },
        "id": "fKDZkzpE-7W1",
        "outputId": "97c9017e-9370-4f9d-f651-ce787bba27df"
      },
      "execution_count": 12,
      "outputs": [
        {
          "output_type": "stream",
          "name": "stdout",
          "text": [
            "[1, 2, 3, 4, 5]\n"
          ]
        }
      ]
    },
    {
      "cell_type": "code",
      "source": [
        "#7.Write a code to append the number 10 to the list [1, 2, 3, 4].\n",
        "numbers = [1, 2, 3, 4]\n",
        "numbers.append(10)\n",
        "print(numbers)\n"
      ],
      "metadata": {
        "colab": {
          "base_uri": "https://localhost:8080/"
        },
        "id": "nfEU5D3f-7Ol",
        "outputId": "889832ec-3651-40f9-ef1a-6cd81c03a6f1"
      },
      "execution_count": 9,
      "outputs": [
        {
          "output_type": "stream",
          "name": "stdout",
          "text": [
            "[1, 2, 3, 4, 10]\n"
          ]
        }
      ]
    },
    {
      "cell_type": "code",
      "source": [
        "#8.Write a code to remove the number 3 from the list [1, 2, 3, 4, 5].\n",
        "\n",
        "numbers = [1, 2, 3, 4, 5]\n",
        "numbers.remove(3)\n",
        "print(numbers)"
      ],
      "metadata": {
        "colab": {
          "base_uri": "https://localhost:8080/"
        },
        "id": "vA2nJFLd-7HO",
        "outputId": "59fed4af-d054-482a-d41d-de47a5ae7206"
      },
      "execution_count": 13,
      "outputs": [
        {
          "output_type": "stream",
          "name": "stdout",
          "text": [
            "[1, 2, 4, 5]\n"
          ]
        }
      ]
    },
    {
      "cell_type": "code",
      "source": [
        "#9.Write a code to access the second element in the list ['a', 'b', 'c', 'd'].\n",
        "\n",
        "letters = ['a', 'b', 'c', 'd']\n",
        "print(letters[1])"
      ],
      "metadata": {
        "colab": {
          "base_uri": "https://localhost:8080/"
        },
        "id": "XOJHHUyk-6_d",
        "outputId": "906acdf6-bf04-4028-c7ed-5cf893d35c2a"
      },
      "execution_count": 14,
      "outputs": [
        {
          "output_type": "stream",
          "name": "stdout",
          "text": [
            "b\n"
          ]
        }
      ]
    },
    {
      "cell_type": "code",
      "source": [
        "#10.Write a code to reverse the list [10, 20, 30, 40, 50].\n",
        "\n",
        "numbers = [10, 20, 30, 40, 50]\n",
        "numbers.reverse()\n",
        "print(numbers)"
      ],
      "metadata": {
        "colab": {
          "base_uri": "https://localhost:8080/"
        },
        "id": "ohO-7Oyu-63k",
        "outputId": "0352f3c0-0f50-4104-aba2-f8d0f0078857"
      },
      "execution_count": 15,
      "outputs": [
        {
          "output_type": "stream",
          "name": "stdout",
          "text": [
            "[50, 40, 30, 20, 10]\n"
          ]
        }
      ]
    },
    {
      "cell_type": "code",
      "source": [
        "#11. Write a code to create a tuple with the elements 10, 20, 30 and print it.\n",
        "\n",
        "my_tuple = (10, 20, 30)\n",
        "print(my_tuple)\n",
        ""
      ],
      "metadata": {
        "colab": {
          "base_uri": "https://localhost:8080/"
        },
        "id": "P5aZxwpA-6wA",
        "outputId": "d4c78d7b-5ef1-438d-b1b1-ab6a14c2ff90"
      },
      "execution_count": 16,
      "outputs": [
        {
          "output_type": "stream",
          "name": "stdout",
          "text": [
            "(10, 20, 30)\n"
          ]
        }
      ]
    },
    {
      "cell_type": "code",
      "source": [
        "#12. Write a code to access the first element of the tuple ('apple', 'banana', 'cherry').\n",
        "\n",
        "my_tuple = ('apple', 'banana', 'cherry')\n",
        "print(my_tuple[0])\n",
        ""
      ],
      "metadata": {
        "colab": {
          "base_uri": "https://localhost:8080/"
        },
        "id": "N6kQG9P3-6pK",
        "outputId": "7f4174b9-ff35-4d56-aafe-e7c6bc47a768"
      },
      "execution_count": 17,
      "outputs": [
        {
          "output_type": "stream",
          "name": "stdout",
          "text": [
            "apple\n"
          ]
        }
      ]
    },
    {
      "cell_type": "code",
      "source": [
        "#13. Write a code to count how many times the number 2 appears in the tuple (1, 2, 3, 2, 4, 2).\n",
        "\n",
        "my_tuple = (1, 2, 3, 2, 4, 2)\n",
        "print(my_tuple.count(2))\n",
        ""
      ],
      "metadata": {
        "colab": {
          "base_uri": "https://localhost:8080/"
        },
        "id": "LjBQZ6G2-6hI",
        "outputId": "cc8a0335-128d-4162-9333-f10d1ff01a89"
      },
      "execution_count": 18,
      "outputs": [
        {
          "output_type": "stream",
          "name": "stdout",
          "text": [
            "3\n"
          ]
        }
      ]
    },
    {
      "cell_type": "code",
      "source": [
        "#14. Write a code to find the index of the element \"cat\" in the tuple ('dog', 'cat', 'rabbit').\n",
        "\n",
        "my_tuple = ('dog', 'cat', 'rabbit')\n",
        "print(my_tuple.index('cat'))\n",
        "\n",
        ""
      ],
      "metadata": {
        "colab": {
          "base_uri": "https://localhost:8080/"
        },
        "id": "Ufrw0_Jj-6Zn",
        "outputId": "f896abdc-f14a-4f13-fc4a-345efe0a37be"
      },
      "execution_count": 19,
      "outputs": [
        {
          "output_type": "stream",
          "name": "stdout",
          "text": [
            "1\n"
          ]
        }
      ]
    },
    {
      "cell_type": "code",
      "source": [
        "#15. Write a code to check if the element \"banana\" is in the tuple ('apple', 'orange', 'banana').\n",
        "\n",
        "my_tuple = ('apple', 'orange', 'banana')\n",
        "print('banana' in my_tuple)\n"
      ],
      "metadata": {
        "colab": {
          "base_uri": "https://localhost:8080/"
        },
        "id": "w8XaUpLj-6Rz",
        "outputId": "9752b8b3-4a86-4222-b995-e1d4c1fb8499"
      },
      "execution_count": 21,
      "outputs": [
        {
          "output_type": "stream",
          "name": "stdout",
          "text": [
            "True\n"
          ]
        }
      ]
    },
    {
      "cell_type": "code",
      "source": [
        "#16. Write a code to create a set with the elements 1, 2, 3, 4, 5 and print it.\n",
        "\n",
        "my_set = {1, 2, 3, 4, 5}\n",
        "print(my_set)\n"
      ],
      "metadata": {
        "colab": {
          "base_uri": "https://localhost:8080/"
        },
        "id": "xIkMdXhq-6K5",
        "outputId": "1375bfad-eeae-49d1-fddf-1763d36d2b9e"
      },
      "execution_count": 22,
      "outputs": [
        {
          "output_type": "stream",
          "name": "stdout",
          "text": [
            "{1, 2, 3, 4, 5}\n"
          ]
        }
      ]
    },
    {
      "cell_type": "code",
      "source": [
        "#17. Write a code to add the element 6 to the set {1, 2, 3, 4}.\n",
        "\n",
        "my_set = {1, 2, 3, 4}\n",
        "my_set.add(6)\n",
        "print(my_set)\n"
      ],
      "metadata": {
        "colab": {
          "base_uri": "https://localhost:8080/"
        },
        "id": "s2VemRBg-6DL",
        "outputId": "c1acaf67-22c8-454a-eff4-d26faacc37a7"
      },
      "execution_count": 23,
      "outputs": [
        {
          "output_type": "stream",
          "name": "stdout",
          "text": [
            "{1, 2, 3, 4, 6}\n"
          ]
        }
      ]
    },
    {
      "cell_type": "code",
      "source": [
        "#18. Write a code to create a tuple with the elements 10, 20, 30 and print it.\n",
        "\n",
        "my_tuple = (10, 20, 30)\n",
        "print(my_tuple)\n"
      ],
      "metadata": {
        "colab": {
          "base_uri": "https://localhost:8080/"
        },
        "id": "uM08xq_h-573",
        "outputId": "24bb88f0-2f87-4cce-a407-158e004503c9"
      },
      "execution_count": 24,
      "outputs": [
        {
          "output_type": "stream",
          "name": "stdout",
          "text": [
            "(10, 20, 30)\n"
          ]
        }
      ]
    },
    {
      "cell_type": "code",
      "source": [
        "#19. Write a code to access the first element of the tuple ('apple', 'banana', 'cherry').\n",
        "\n",
        "my_tuple = ('apple', 'banana', 'cherry')\n",
        "print(my_tuple[0])\n"
      ],
      "metadata": {
        "colab": {
          "base_uri": "https://localhost:8080/"
        },
        "id": "fWNQIGfn-50a",
        "outputId": "506a4375-452b-4210-858e-d693aef18d2d"
      },
      "execution_count": 25,
      "outputs": [
        {
          "output_type": "stream",
          "name": "stdout",
          "text": [
            "apple\n"
          ]
        }
      ]
    },
    {
      "cell_type": "code",
      "source": [
        "#20. Write a code to count how many times the number 2 appears in the tuple (1, 2, 3, 2, 4, 2).\n",
        "\n",
        "\n",
        "my_tuple = (1, 2, 3, 2, 4, 2)\n",
        "print(my_tuple.count(2))\n"
      ],
      "metadata": {
        "colab": {
          "base_uri": "https://localhost:8080/"
        },
        "id": "bElAB4fa-5sz",
        "outputId": "faa360ba-f430-4b1b-97c3-7cf6fdc19f3b"
      },
      "execution_count": 26,
      "outputs": [
        {
          "output_type": "stream",
          "name": "stdout",
          "text": [
            "3\n"
          ]
        }
      ]
    },
    {
      "cell_type": "code",
      "source": [
        "#21. Write a code to find the index of the element \"cat\" in the tuple ('dog', 'cat', 'rabbit').\n",
        "\n",
        "my_tuple = ('dog', 'cat', 'rabbit')\n",
        "print(my_tuple.index('cat'))\n"
      ],
      "metadata": {
        "colab": {
          "base_uri": "https://localhost:8080/"
        },
        "id": "O9YaFQpR-5lL",
        "outputId": "5297abcd-3010-4219-deb5-1b84c09b0c7f"
      },
      "execution_count": 27,
      "outputs": [
        {
          "output_type": "stream",
          "name": "stdout",
          "text": [
            "1\n"
          ]
        }
      ]
    },
    {
      "cell_type": "code",
      "source": [
        "#22. Write a code to check if the element \"banana\" is in the tuple ('apple', 'orange', 'banana').\n",
        "\n",
        "my_tuple = ('apple', 'orange', 'banana')\n",
        "print('banana' in my_tuple)\n"
      ],
      "metadata": {
        "colab": {
          "base_uri": "https://localhost:8080/"
        },
        "id": "9TXkYyb6-5c-",
        "outputId": "2e9457d3-b5ca-49fd-fc8f-d8c194967bd3"
      },
      "execution_count": 28,
      "outputs": [
        {
          "output_type": "stream",
          "name": "stdout",
          "text": [
            "True\n"
          ]
        }
      ]
    },
    {
      "cell_type": "code",
      "source": [
        "#23. Write a code to create a set with the elements 1, 2, 3, 4, 5 and print it.\n",
        "\n",
        "my_set = {1, 2, 3, 4, 5}\n",
        "print(my_set)\n"
      ],
      "metadata": {
        "colab": {
          "base_uri": "https://localhost:8080/"
        },
        "id": "g0wgK_na-5VY",
        "outputId": "aa3e41ad-bfa2-479b-c961-fbc552e90e22"
      },
      "execution_count": 29,
      "outputs": [
        {
          "output_type": "stream",
          "name": "stdout",
          "text": [
            "{1, 2, 3, 4, 5}\n"
          ]
        }
      ]
    },
    {
      "cell_type": "code",
      "source": [
        "#24. Write a code to add the element 6 to the set {1, 2, 3, 4}.\n",
        "\n",
        "my_set = {1, 2, 3, 4}\n",
        "my_set.add(6)\n",
        "print(my_set)\n"
      ],
      "metadata": {
        "colab": {
          "base_uri": "https://localhost:8080/"
        },
        "id": "VW6mmXMN-5NX",
        "outputId": "f8ef6203-4862-4672-cb02-2a72ba08b71e"
      },
      "execution_count": 30,
      "outputs": [
        {
          "output_type": "stream",
          "name": "stdout",
          "text": [
            "{1, 2, 3, 4, 6}\n"
          ]
        }
      ]
    }
  ]
}