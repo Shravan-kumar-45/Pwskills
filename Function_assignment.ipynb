{
  "nbformat": 4,
  "nbformat_minor": 0,
  "metadata": {
    "colab": {
      "provenance": []
    },
    "kernelspec": {
      "name": "python3",
      "display_name": "Python 3"
    },
    "language_info": {
      "name": "python"
    }
  },
  "cells": [
    {
      "cell_type": "code",
      "execution_count": null,
      "metadata": {
        "id": "crcXDssBBCbB"
      },
      "outputs": [],
      "source": []
    },
    {
      "cell_type": "markdown",
      "source": [
        " **1. What is the difference between a function and a method in Python?**\n",
        "\n",
        " **Ans:-** Fuctions are the block of the code which perform some specific or computation given by the user. It can be called by name when ever is the necessity of the fuction.\n",
        "\n",
        " Ex:-\n",
        " def pw(n):\n",
        "    return f\"Hello,{n}!\"\n",
        "\n",
        "print(pw(\"students\")) # output: Hello, students!\n",
        "\n",
        " Method are funtion that part of the object and they operate on data contained within that object.\n",
        "\n",
        "\n",
        "**2. Explain the concept of function arguments and parameters in Python.**\n",
        "\n",
        " **Ans:-** Parameters are the variables listed in the function definition. They act as placeholders that specify what kind of values the function expects to receive when it is called.They define what kind of data the function will work with.\n",
        "\n",
        " Ex:-\n",
        "\n",
        " def greet(name): #'name' is parameter\n",
        "   return f\"Hello,{name}!\"\n",
        "\n",
        "  Argument are the actual values that you pass to a function when you call it.\n",
        "\n",
        "  Ex:-\n",
        "\n",
        "  print(greet(\"Papa\")) # 'Papa' is a argument\n",
        "\n",
        "\n",
        "\n",
        "**3. What are the different ways to define and call a function in Python?**\n",
        "\n",
        " **Ans:-** A function is defined using the 'def' keyword, followed by the function name and parameters in parentheses and a block of code inside the function.\n",
        "\n",
        " Ex:-\n",
        " (a) simple\n",
        "\n",
        " def kk():\n",
        "  print(\"hello\")\n",
        "\n",
        "kk() # output : hello\n",
        "\n",
        "(b) with parameter\n",
        "\n",
        "def p(n):\n",
        " print(f\"hello,{n}!\")\n",
        "\n",
        "p(gg) # output: hello, gg\n",
        "\n",
        "(c) with return value\n",
        "\n",
        "def add(a,b):\n",
        "  return a+b\n",
        "\n",
        "result = add(3,5)\n",
        "print(result) #output: 8\n",
        "\n",
        "(d) with default parameter\n",
        "\n",
        "def greet(name=\"skills\"):\n",
        "  print(f\"PW {name}!\")\n",
        "\n",
        "greet()  # PWskills\n",
        "greet(\"work\") # PWwork\n",
        "\n",
        "(e) with variable-lengh argument\n",
        "\n",
        "def add(*ar):\n",
        " return sum(ar)\n",
        "\n",
        "result = add(1,2,3,4)\n",
        "print(result) # output: 10\n",
        "\n",
        "(f) with **kwargs(for keyword argument)\n",
        "\n",
        "def n(**kwargs):\n",
        "  for name, message in kwargs.items():\n",
        "  print(f\"{message},{name}!\")\n",
        "\n",
        "n(A=\"hello\", B=\"world\")\n",
        "\n",
        "hello,A!\n",
        "world,B!\n",
        "\n",
        "(g) Lambda function\n",
        "\n",
        "square = lambda x: x ** 2\n",
        "\n",
        "print(square(5))  # Output: 25\n",
        "\n",
        "\n",
        "(h)nested function\n",
        "\n",
        "def outer_function():\n",
        "  def inner_function():\n",
        "        print(\"Inside the inner function\")\n",
        "    \n",
        "  inner_function()\n",
        "  print(\"Inside the outer function\")\n",
        "\n",
        "\n",
        "\n",
        "\n",
        " **4. What is the purpose of the `return` statement in a Python function?**\n",
        "\n",
        "  **Ans:-**\n",
        "\n",
        "The purpose of the return statement in a Python function is to:\n",
        "\n",
        "1.Send a result back to where the function was called, so you can use it later.\n",
        "\n",
        "2.Exit the function and stop its execution at that point.\n",
        "\n",
        "Ex:-\n",
        "\n",
        "def add(a, b):\n",
        "  return a + b\n",
        "\n",
        "result = add(3, 5)  # The result is returned and stored in 'result'\n",
        "print(result)  # Output: 8\n",
        "\n",
        "\n",
        " **5. What are iterators in Python and how do they differ from iterables?**\n",
        "\n",
        "  **Ans:-**\n",
        "\n",
        "  An iterator is an object that allows you to traverse through a sequence (like a list or a string) one element at a time.\n",
        "\n",
        "  To be an iterator, an object must implement two methods:\n",
        "\n",
        "1.__iter__() — This method returns the iterator object itself.\n",
        "\n",
        "\n",
        "2.__next__() — This method returns the next element in the sequence.\n",
        "\n",
        "Ex:-\n",
        "\n",
        "my_list = [1, 2, 3]\n",
        "\n",
        "my_iterator = iter(my_list)  # Create an iterator from the list\n",
        "\n",
        "print(next(my_iterator))  # Output: 1\n",
        "\n",
        "print(next(my_iterator))  # Output: 2\n",
        "\n",
        "print(next(my_iterator))  # Output: 3\n",
        "\n",
        "\n",
        "An iterable is any object that can return an iterator. In simple terms, if an object can be looped over (like in a for loop), it's an iterable.\n",
        "\n",
        "Examples of iterables are lists, tuples, strings, and dictionaries. You can convert an iterable into an iterator using the iter() function.\n",
        "\n",
        "Ex:-\n",
        "\n",
        "my_list = [1, 2, 3]  # This is an iterable\n",
        "\n",
        "for item in my_list:  # You can loop over it directly\n",
        "   print(item)\n",
        "\n",
        "\n",
        "\n",
        "\n",
        "\n",
        "\n",
        "**6. Explain the concept of generators in Python and how they are defined.**\n",
        "\n",
        "**Ans:-**\n",
        "\n",
        "A generator is a special type of iterator that allows you to iterate over a sequence of values, but it generates (yields) each value one at a time as you need it, instead of storing all the values in memory at once.\n",
        "\n",
        "Generators are defined using the yield keyword inside a function, instead of return.\n",
        "\n",
        "Ex:-\n",
        "\n",
        "def count_up_to(limit):\n",
        "\n",
        "  count = 1\n",
        "\n",
        "  while count <= limit:\n",
        "        yield count  # Yield returns the current value and pauses the function\n",
        "        count += 1\n",
        "\n",
        "\n",
        "\n",
        "** 7. What are the advantages of using generators over regular functions?**\n",
        "\n",
        " **Ans:-** There are some advantages as follows:-\n",
        "\n",
        " 1. Memory Efficiency\n",
        "\n",
        " 2.Improved Performance\n",
        "\n",
        " 3.Infinite Sequences\n",
        "\n",
        "\n",
        "\n",
        "**8. What is a lambda function in Python and when is it typically used?**\n",
        "\n",
        "**Ans:-**\n",
        "\n",
        "A lambda function is a small, anonymous function that is defined using the lambda keyword. It can have any number of arguments, but it can only have one expression.\n",
        "\n",
        "Syntax\n",
        "\n",
        "lambda arguments: expression\n",
        "\n",
        "Ex:-\n",
        "\n",
        "add = lambda x, y: x + y\n",
        "\n",
        "print(add(3, 5))  # Output: 8\n",
        "\n",
        "\n",
        "We used for\n",
        "\n",
        "1. Short, one-line functions: When you need a simple function for a short operation, without the need to define a full function using def.\n",
        "\n",
        "\n",
        "2.Passing functions as arguments: Often used in functions like map(), filter(), and sorted(), where you need a quick function for one-time use.\n",
        "\n",
        "Ex:-\n",
        "\n",
        "pairs = [(1, 2), (3, 1), (5, 0)]\n",
        "\n",
        "pairs_sorted = sorted(pairs, key=lambda x: x[1])\n",
        "\n",
        "print(pairs_sorted)  # Output: [(5, 0), (3, 1), (1, 2)]\n",
        "\n",
        "\n",
        "\n",
        "\n",
        "\n",
        "**9. Explain the purpose and usage of the `map()` function in Python.**\n",
        "\n",
        "\n",
        "**Ans:-** The map() function is used to apply a given function to all items in an iterable (like a list, tuple, etc.), and it returns an iterator with the results.\n",
        "\n",
        "Syntax:\n",
        "\n",
        "map(function, iterable)\n",
        "\n",
        "Ex:-\n",
        "\n",
        "numbers = [1, 2, 3, 4]\n",
        "\n",
        "\n",
        "result = map(lambda x: x * 2, numbers)\n",
        "\n",
        "print(list(result))  # Output: [2, 4, 6, 8]\n",
        "\n",
        "\n",
        "\n",
        "\n",
        "\n",
        "\n",
        "**10. What is the difference between map(), reduce(), and filter() functions in Python?**\n",
        "\n",
        "\n",
        "**Ans:-** These three functions are used to apply operations to iterables, but they serve different purposes:\n",
        "\n",
        "1. map():\n",
        "Purpose: Applies a function to each item in an iterable and returns an iterable of the results.\n",
        "Output: A new iterable (like a list or map object) with transformed items.\n",
        "\n",
        "Example:\n",
        "\n",
        "numbers = [1, 2, 3]\n",
        "\n",
        "result = map(lambda x: x * 2, numbers)\n",
        "\n",
        "print(list(result))  # Output: [2, 4, 6]\n",
        "\n",
        "2. reduce():\n",
        "\n",
        "Purpose: Applies a function to the items in an iterable cumulatively (i.e., it reduces the iterable to a single value).\n",
        "Output: A single value that is the result of applying the function cumulatively.\n",
        "\n",
        "Example:\n",
        "\n",
        "from functools import reduce\n",
        "\n",
        "numbers = [1, 2, 3, 4]\n",
        "\n",
        "result = reduce(lambda x, y: x + y, numbers)\n",
        "\n",
        "print(result)  # Output: 10 (1 + 2 + 3 + 4)\n",
        "\n",
        "3. filter():\n",
        "Purpose: Filters items from an iterable based on a condition (returns only items for which the function returns True).\n",
        "Output: An iterable containing only the items that satisfy the condition.\n",
        "\n",
        "Example:\n",
        "\n",
        "numbers = [1, 2, 3, 4, 5]\n",
        "\n",
        "result = filter(lambda x: x % 2 == 0, numbers)\n",
        "\n",
        "print(list(result))  # Output: [2, 4]\n"
      ],
      "metadata": {
        "id": "MAG8Zdw0BIVa"
      }
    },
    {
      "cell_type": "markdown",
      "source": [
        "**11. Using pen & Paper write the internal mechanism for sum operation using  reduce function on this given**\n",
        "\n",
        "**list:[47,11,42,13];**\n",
        "\n",
        "![WhatsApp Image 2025-01-21 at 01.44.06_40ec468b.jpg](data:image/jpeg;base64,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)"
      ],
      "metadata": {
        "id": "w9EbfEoOVLkn"
      }
    },
    {
      "cell_type": "markdown",
      "source": [
        "**Practical Question**"
      ],
      "metadata": {
        "id": "aCZgi8c6XFPf"
      }
    },
    {
      "cell_type": "code",
      "source": [
        "#1. Write a Python function that takes a list of numbers as input and returns the sum of all even numbers in the list.\n",
        "\n",
        "def even_sum_list(n):\n",
        "  even_ = 0\n",
        "\n",
        "\n",
        "  for i in n :  # This code checks number in the list if it is even than its add to the even_ '''\n",
        "     if i % 2 == 0:\n",
        "      even_ = even_ + i\n",
        "\n",
        "\n",
        "  return even_\n",
        "\n",
        "a = [2,4,6,8,1,3,7,9]\n",
        "b = even_sum_list(a)\n",
        "print(b)\n"
      ],
      "metadata": {
        "colab": {
          "base_uri": "https://localhost:8080/"
        },
        "id": "c4JUCRkpXNXY",
        "outputId": "1f582fbc-7993-4f8f-defc-a8091d8c226f"
      },
      "execution_count": null,
      "outputs": [
        {
          "output_type": "stream",
          "name": "stdout",
          "text": [
            "20\n"
          ]
        }
      ]
    },
    {
      "cell_type": "code",
      "source": [
        "#2. Create a Python function that accepts a string and returns the reverse of that string.\n",
        "\n",
        "def reverse_string(s):\n",
        "    return s[::-1]  # Slicing to reverse the string\n",
        "\n",
        "string = \"Hello, world!\"\n",
        "result = reverse_string(string)\n",
        "print(result)\n",
        "\n"
      ],
      "metadata": {
        "colab": {
          "base_uri": "https://localhost:8080/"
        },
        "id": "UH6-q0AMXu1L",
        "outputId": "e2783744-3511-44dd-f489-ee61b7fe20fe"
      },
      "execution_count": null,
      "outputs": [
        {
          "output_type": "stream",
          "name": "stdout",
          "text": [
            "!dlrow ,olleH\n"
          ]
        }
      ]
    },
    {
      "cell_type": "code",
      "source": [
        "#3. Implement a Python function that takes a list of integers and returns a new list containing the squares of each number.\n",
        "\n",
        "def square_numbers(numbers):\n",
        "\n",
        "    return [num ** 2 for num in numbers]\n",
        "\n",
        "\n",
        "numbers = [1, 2, 3, 4, 5]\n",
        "result = square_numbers(numbers)\n",
        "print(result)\n"
      ],
      "metadata": {
        "colab": {
          "base_uri": "https://localhost:8080/"
        },
        "id": "mqu2dJqkXzLp",
        "outputId": "b0954728-61f6-4c07-81ed-b4b0c14090b0"
      },
      "execution_count": null,
      "outputs": [
        {
          "output_type": "stream",
          "name": "stdout",
          "text": [
            "[1, 4, 9, 16, 25]\n"
          ]
        }
      ]
    },
    {
      "cell_type": "code",
      "source": [
        "#4. Write a Python function that checks if a given number is prime or not from 1 to 200.\n",
        "\n",
        "def is_prime(n):\n",
        "    if n < 2:  # Numbers less than 2 are not prime\n",
        "        return False\n",
        "    for i in range(2, n):\n",
        "        if n % i == 0:  # If n is divisible by any number, it's not prime\n",
        "            return False\n",
        "    return True  # If no divisor is found, it's prime\n",
        "\n",
        "# Check numbers from 1 to 200\n",
        "for num in range(1, 201):\n",
        "    if is_prime(num):\n",
        "        print(num, end=\" \")\n"
      ],
      "metadata": {
        "colab": {
          "base_uri": "https://localhost:8080/"
        },
        "id": "h3x-dZa6X1-K",
        "outputId": "f6834c19-ea50-4c5d-d11d-01baee1a3780"
      },
      "execution_count": null,
      "outputs": [
        {
          "output_type": "stream",
          "name": "stdout",
          "text": [
            "2 3 5 7 11 13 17 19 23 29 31 37 41 43 47 53 59 61 67 71 73 79 83 89 97 101 103 107 109 113 127 131 137 139 149 151 157 163 167 173 179 181 191 193 197 199 "
          ]
        }
      ]
    },
    {
      "cell_type": "code",
      "source": [
        "#5. Create an iterator class in Python that generates the Fibonacci sequence up to a specified number of terms.\n",
        "\n",
        "def fib(n):\n",
        "  a = 0\n",
        "  b = 1\n",
        "  for i in range(n): # if n= 5, 0,1,2,3\n",
        "      yield a\n",
        "      a , b = b , a+b\n",
        "\n",
        "print(list(fib(10)))"
      ],
      "metadata": {
        "id": "p1TsYxoWX34L",
        "colab": {
          "base_uri": "https://localhost:8080/"
        },
        "outputId": "5bb84116-da2b-4aa1-e869-61e5801118fa"
      },
      "execution_count": 24,
      "outputs": [
        {
          "output_type": "stream",
          "name": "stdout",
          "text": [
            "[0, 1, 1, 2, 3, 5, 8, 13, 21, 34]\n"
          ]
        }
      ]
    },
    {
      "cell_type": "code",
      "source": [
        "#6. Write a generator function in Python that yields the powers of 2 up to a given exponent.\n",
        "\n",
        "def powers_of_two(exponent):\n",
        "    for i in range(exponent + 1):  # Loop from 0 to the given exponent\n",
        "        yield 2 ** i\n",
        "\n",
        "\n",
        "for power in powers_of_two(5):\n",
        "    print(power, end=\" \")\n"
      ],
      "metadata": {
        "colab": {
          "base_uri": "https://localhost:8080/"
        },
        "id": "O1BLoabkX5y-",
        "outputId": "fb8d8546-391a-4b81-d010-082492b7f33f"
      },
      "execution_count": null,
      "outputs": [
        {
          "output_type": "stream",
          "name": "stdout",
          "text": [
            "1 2 4 8 16 32 "
          ]
        }
      ]
    },
    {
      "cell_type": "code",
      "source": [
        "#7. Implement a generator function that reads a file line by line and yields each line as a string.\n"
      ],
      "metadata": {
        "id": "OEA0GSM6X5rC"
      },
      "execution_count": null,
      "outputs": []
    },
    {
      "cell_type": "code",
      "source": [
        "#8. Use a lambda function in Python to sort a list of tuples based on the second element of each tuple.\n",
        "\n",
        "\n",
        "tuples = [(1, 5), (2, 3), (4, 1), (3, 7)]\n",
        "\n",
        "\n",
        "sorted_tuples = sorted(tuples, key=lambda x: x[1])\n",
        "\n",
        "\n",
        "print(sorted_tuples)\n"
      ],
      "metadata": {
        "colab": {
          "base_uri": "https://localhost:8080/"
        },
        "id": "237R_V2PX80d",
        "outputId": "97625580-874e-48b8-9555-0fa19a333968"
      },
      "execution_count": null,
      "outputs": [
        {
          "output_type": "stream",
          "name": "stdout",
          "text": [
            "[(4, 1), (2, 3), (1, 5), (3, 7)]\n"
          ]
        }
      ]
    },
    {
      "cell_type": "code",
      "source": [
        "#9. Write a Python program that uses `map()` to convert a list of temperatures from Celsius to Fahrenheit.\n",
        "\n",
        "\n",
        "def celsius_to_fahrenheit(celsius):\n",
        "    return (celsius * 9/5) + 32\n",
        "\n",
        "\n",
        "celsius_temperatures = [0, 20, 25, 30, 35]\n",
        "\n",
        "fahrenheit_temperatures = map(celsius_to_fahrenheit, celsius_temperatures)\n",
        "\n",
        "print(list(fahrenheit_temperatures))\n"
      ],
      "metadata": {
        "colab": {
          "base_uri": "https://localhost:8080/"
        },
        "id": "2wtjWNFWX_vR",
        "outputId": "7e19c53f-a642-4e12-dae7-8cc3c17960fe"
      },
      "execution_count": null,
      "outputs": [
        {
          "output_type": "stream",
          "name": "stdout",
          "text": [
            "[32.0, 68.0, 77.0, 86.0, 95.0]\n"
          ]
        }
      ]
    },
    {
      "cell_type": "code",
      "source": [
        "\n",
        "#10. Create a Python program that uses `filter()` to remove all the vowels from a given string.\n",
        "\n",
        "\n",
        "def is_not_vowel(char):\n",
        "    return char.lower() not in 'aeiou'\n",
        "\n",
        "\n",
        "input_string = \"Hello, World!\"\n",
        "\n",
        "\n",
        "filtered_string = filter(is_not_vowel, input_string)\n",
        "\n",
        "\n",
        "result = ''.join(filtered_string)\n",
        "print(result)\n"
      ],
      "metadata": {
        "colab": {
          "base_uri": "https://localhost:8080/"
        },
        "id": "N6xce0twX_Pj",
        "outputId": "0cdda645-6966-482a-ec62-a2e3efe4cbc3"
      },
      "execution_count": null,
      "outputs": [
        {
          "output_type": "stream",
          "name": "stdout",
          "text": [
            "Hll, Wrld!\n"
          ]
        }
      ]
    },
    {
      "cell_type": "code",
      "source": [
        "\"\"\"11) Imagine an accounting routine used in a book shop. It works on a list with sublists, which look like this:\n",
        "Order Number      Book titile and Author                     Quantity     Price per item\n",
        "34587            Learning Python,Mark Lutz                      4          40.95\n",
        "98762            Progarmming Python,Mark Lutz                   5          56.80\n",
        "77226            Head First Pyhton,Paul Barry                   3          32.95\n",
        "88112            Einfuhrung in Python 3, Bernd Klein            3          24.99\n",
        "\n",
        "\n",
        "Write a Python program, which returns a list with 2-tuples. Each tuple consists of the order number and the\n",
        "product of the price per item and the quantity. The product should be increased by 10,- € if the value of the\n",
        "order is smaller than 100,00 €\"\"\"\n",
        "\n",
        "orders = [\n",
        "    [34587, 'Learning Python, Mark Lutz', 4, 40.95],\n",
        "    [98762, 'Programming Python, Mark Lutz', 5, 56.80],\n",
        "    [77226, 'Head First Python, Paul Barry', 3, 32.95],\n",
        "    [88112, 'Einfuhrung in Python 3, Bernd Klein', 3, 24.99]\n",
        "\n",
        "]\n",
        "\n",
        "def process_orders(orders):\n",
        "    result = []\n",
        "    for i in orders:\n",
        "        order_number = i[0]\n",
        "        quantity = i[2]\n",
        "        price_per_item = i[3]\n",
        "        total_price = quantity * price_per_item\n",
        "\n",
        "\n",
        "        if total_price < 100:\n",
        "            total_price += 10\n",
        "\n",
        "        result.append((order_number, total_price))\n",
        "    return result\n",
        "\n",
        "\n",
        "processed_orders = process_orders(orders)\n",
        "print(processed_orders)\n",
        "\n"
      ],
      "metadata": {
        "colab": {
          "base_uri": "https://localhost:8080/"
        },
        "id": "mO61iZLOiAqD",
        "outputId": "1bce0983-b850-4c50-b33e-9b15789ef7f0"
      },
      "execution_count": null,
      "outputs": [
        {
          "output_type": "stream",
          "name": "stdout",
          "text": [
            "[(34587, 163.8), (98762, 284.0), (77226, 108.85000000000001), (88112, 84.97)]\n"
          ]
        }
      ]
    }
  ]
}