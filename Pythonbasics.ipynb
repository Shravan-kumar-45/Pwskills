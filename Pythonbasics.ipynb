{
  "nbformat": 4,
  "nbformat_minor": 0,
  "metadata": {
    "colab": {
      "provenance": []
    },
    "kernelspec": {
      "name": "python3",
      "display_name": "Python 3"
    },
    "language_info": {
      "name": "python"
    }
  },
  "cells": [
    {
      "cell_type": "code",
      "execution_count": null,
      "metadata": {
        "id": "s2Wj2BY3SMxn"
      },
      "outputs": [],
      "source": []
    },
    {
      "cell_type": "markdown",
      "source": [
        "# Python Basics Questions\n",
        "\n",
        "**1.  What is python, and why is it popolar?**\n",
        "\n",
        "**Ans:-** Python is a programming language that allows computers to comprehend human commands because computers are unable to understand human language.\n",
        "It help computer to follow set of intruction given by a human.\n",
        "\n",
        "For Example :- Suppose there is a Russian friend of yours and you dont know about anything other than english launguge and you want to communicate with your russian friend. Now, you look for a tranlator who can translate your words to your russian friend. Same way, the programming help us to communicate with computers.\n",
        "\n",
        "There are several reason for python been so much popular:-\n",
        "- Its has vast library collection for the user.\n",
        "- Its easy and simple to understand to the beginners.\n",
        "- Its has huge community of people who share codes to the community.\n",
        "- It widely used in the popular industries.\n",
        "- Cross-Platform\n",
        "- Performance\n",
        "\n",
        "\n",
        "**2.  What is an interpreter in Python?**\n",
        "\n",
        "**Ans:-** An interpreter in Python is a program that reads and executes Python code line by line, converting it into machine code so that the computer can understand and execute it. Unlike a compiler, which translates the entire source code into machine code at once, an interpreter processes the code one instruction at a time.\n",
        "\n",
        "**3.  What are pre-defined keywords in Python ?**\n",
        "\n",
        "**Ans:-**  Pre-defined Keywords are known as reserved words. There pre-defined keywords hold a specific meaning and specific purpose.\n",
        "There are several types of pre- defined keywords:-\n",
        "\n",
        "**A. Numeric type**\n",
        "\n",
        "*   int(43,89,78)\n",
        "-float(85.59,98.99)\n",
        "-complex:- comples number with real and imaginary part(34 + 87j)\n",
        "\n",
        "**B. Sequence types**\n",
        "*   str [strings of character]\n",
        "-list - mutable sequence of elements [1,2,3]\n",
        "-tuple - immutable sequence (1,3,4)\n",
        "\n",
        "**C. Mapping types**\n",
        "* dict - Mutable collection of key-value pair {'abc':34,'shravan':45}\n",
        "\n",
        "**D. Set types**\n",
        "* set - Mutable collection of unique elements {1,2,3}\n",
        "- frozenset - Immutable collection of unique elements. Ex:- frozenset({1,2,3})\n",
        "\n",
        "**E. Boolean type**\n",
        "* bool - Boolean values representing True or False\n",
        "\n",
        "**F. None type**\n",
        "* None - A special object representing the absence of a value or a null value.\n",
        "\n",
        "**4.  Can keywords be used as variable names?**\n",
        "\n",
        "**Ans:-** No, keywords can't be as variable because keyswords are special words which holds special meaning and special fuction in the python.\n",
        "\n",
        "Suppose you use print='shravan'.\n",
        "Now, print store value as shravan and you recalled print to display the result of the code than it give us error and you restart the kernal to get again real work of print.\n",
        "So, avoiding this thing we dont use keywords to store varible.\n",
        "\n",
        "**5.  What is mutability in Python?**\n",
        "\n",
        "**Ans:-** Mulability in python means objects which can be edited after there creation.\n",
        "\n",
        "Ex:- List, Dictionaries, Sets and user defined classess(unless, explicity designed to be immutable)\n",
        "\n",
        "\n",
        "**6.  Why are lists mutable, but tuples are immutable?**\n",
        "\n",
        "**Ans:-**Lists are mutable in Python because they are designed for situations where the collection of items can change over time, allowing for additions, deletions, or modifications. Tuples are immutable to provide fixed, reliable collections of data, ensuring that their contents cannot be altered once created. This immutability makes tuples more memory-efficient and hashable (usable as dictionary keys), while lists offer greater flexibility but require more memory and processing for modifications. The choice between lists and tuples depends on whether you need a changeable or fixed collection of elements.\n",
        "\n",
        "**7.  What is the difference between “==” and “is” operators in Python?**\n",
        "\n",
        "**Ans:-*\"==\" is a comparison operator which can be used when you need to compare between things while \"is\" is a identity operaor which are used to compare the memory location of two ojects.\n",
        "\n",
        "For Example:- 5==6 # it return false\n",
        "\n",
        " 5 is 5 # it return True beacuse both location are same.\n",
        "\n",
        "**8.  What are logical operators in Python?**\n",
        "\n",
        "**Ans:-** Logical operator are used to combine and manipulate boolean values.\n",
        "There are several types of logical operators:-\n",
        "* **a.Logical AND**\n",
        "Returns True id both condition are true.\n",
        "* **b.Logical OR**\n",
        "Returns True if at least one of condition is True.\n",
        "* **c.Logical NOT**\n",
        "Its used to convert True to false and vice-versa.\n",
        "\n",
        "**9.  What is type casting in Python?**\n",
        "\n",
        "**Ans:-** Type casting is named of coverting one data type to another by user manually.\n",
        "For Example:-\n",
        "\n",
        "a= '3'\n",
        "type(a) # its shows it as string\n",
        "\n",
        "int(a) # type casting is used to convert str to int\n",
        "\n",
        "type(a) # Now, it shows it as integer\n",
        "\n",
        "**10. What is the difference between implicit and explicit type casting?**\n",
        "\n",
        "**Ans:-**  Implicit type casting where python automatically convert data type to another while in explicit type casting convesion of data type done by user, using inbuilt fuction of python.\n",
        "\n",
        "**Implicit type casting**\n",
        "\n",
        "a = 5        # int\n",
        "\n",
        "b = 2.5      # float\n",
        "\n",
        "result = a + b  # Python automatically converts 'a' to float\n",
        "\n",
        "print(result)  # Output: 7.5\n",
        "\n",
        "**Explicit type casting**\n",
        "\n",
        "a = \"10\"\n",
        "\n",
        "b = int(a)  # Explicit conversion of string to integer\n",
        "\n",
        "print(b)     # Output: 10\n",
        "\n",
        "\n",
        "**11. What is the purpose of conditional statements in Python?**\n",
        "\n",
        "**Ans:-**The purpose of conditional statements in Python is to allow the program to make decisions based on certain conditions or criteria. They enable the program to execute different blocks of code depending on whether a condition is True or False.\n",
        "There are different type of conditional statement:-\n",
        "\n",
        "* 1.If statement\n",
        "*2.Else statement\n",
        "*3.Elif statement\n",
        "\n",
        "**12. How does the elif statement work?**\n",
        "\n",
        "**Ans:-** Elif statement used where multiple conditions present in the situation.\n",
        "\n",
        "For Example:-\n",
        "\n",
        "x = 10\n",
        "\n",
        "if x < 5:\n",
        "\n",
        "print(\"x is less than 5\")\n",
        "\n",
        "elif x == 10:\n",
        "\n",
        "print(\"x is 10\")\n",
        "\n",
        "elif x > 5:\n",
        "\n",
        "print(\"x is greater than 5\")\n",
        "\n",
        "else:\n",
        "\n",
        "print(\"x is something else\")\n",
        "\n",
        "**Output: X is 10**\n",
        "\n",
        "**13. What is the difference between for and while loops?**\n",
        "\n",
        "**Ans:-** For loop is used to iterate over a sequence of elements. It executes a block of code for each item in the sequence.\n",
        "While loop repeatedly executed a block of code as long as a given condition is True. The condition is checked before each iteration and if it become false the loop is exited.\n",
        "\n",
        "**For Loop**\n",
        "\n",
        "for i in range(3):\n",
        "\n",
        "print(i)  \n",
        "\n",
        "**Ouput:0,1,2**\n",
        "\n",
        "\n",
        "**While Loop**\n",
        "\n",
        "i = 0\n",
        "\n",
        "while i < 3:\n",
        "\n",
        "print(i)\n",
        "\n",
        "i += 1\n",
        "\n",
        "**Ouput:0,1,2**\n",
        "\n",
        "\n",
        "\n",
        "**14. Describe a scenario where a while loop is more suitable than a for loop?**\n",
        "\n",
        "**Ans:-** A while loop is more suitable than a for loop in situations where the number of iterations is not known in advance and the loop needs to continue until a certain condition is met."
      ],
      "metadata": {
        "id": "Dmnr5vNkSqSX"
      }
    },
    {
      "cell_type": "markdown",
      "source": [
        "**Practical Qestions**\n"
      ],
      "metadata": {
        "id": "vqyuM1H2yF3G"
      }
    },
    {
      "cell_type": "markdown",
      "source": [],
      "metadata": {
        "id": "GDtYM6dgSpw6"
      }
    },
    {
      "cell_type": "code",
      "source": [
        "# 1.  Write a Python program to print \"Hello, World!\n",
        "\n",
        "print(\"Hello, World!\")"
      ],
      "metadata": {
        "colab": {
          "base_uri": "https://localhost:8080/"
        },
        "id": "LLmunaYKyQAo",
        "outputId": "facc9cde-1e77-4bdb-ba49-ebbd5d1bde2f"
      },
      "execution_count": null,
      "outputs": [
        {
          "output_type": "stream",
          "name": "stdout",
          "text": [
            "Hello, World!\n"
          ]
        }
      ]
    },
    {
      "cell_type": "code",
      "source": [
        "#2. Write a Python program that displays your name and age\n",
        "name = 'Shravan Kumar'\n",
        "age = 28\n",
        "print(name,age)"
      ],
      "metadata": {
        "colab": {
          "base_uri": "https://localhost:8080/"
        },
        "id": "eDK2RwW7yomi",
        "outputId": "7cd56d66-8c49-41f2-a947-026627cd8001"
      },
      "execution_count": null,
      "outputs": [
        {
          "output_type": "stream",
          "name": "stdout",
          "text": [
            "Shravan Kumar 28\n"
          ]
        }
      ]
    },
    {
      "cell_type": "code",
      "source": [
        "# 3. Write code to print all the pre-defined keywords in Python using the keyword library\n",
        "\n",
        "help('keywords')"
      ],
      "metadata": {
        "colab": {
          "base_uri": "https://localhost:8080/"
        },
        "id": "Y05HbBFay9jw",
        "outputId": "d2e487d1-c7a7-4564-fc0f-6e48a589a2b1"
      },
      "execution_count": null,
      "outputs": [
        {
          "output_type": "stream",
          "name": "stdout",
          "text": [
            "\n",
            "Here is a list of the Python keywords.  Enter any keyword to get more help.\n",
            "\n",
            "False               class               from                or\n",
            "None                continue            global              pass\n",
            "True                def                 if                  raise\n",
            "and                 del                 import              return\n",
            "as                  elif                in                  try\n",
            "assert              else                is                  while\n",
            "async               except              lambda              with\n",
            "await               finally             nonlocal            yield\n",
            "break               for                 not                 \n",
            "\n"
          ]
        }
      ]
    },
    {
      "cell_type": "code",
      "source": [
        "# 4. Write a program that checks if a given word is a Python keyword\n",
        "\n",
        "a=(input(\"Enter the word to check either it is keyword or not\")) # taking input from the user\n",
        "\n",
        "a=a.lower() # converting upper into lower case\n",
        "\n",
        "b= ['false','class','from','or','none','continue','global','pass','true','def','if','raise','and','del','import','return','as','elif','in','try','assert','else','is','while','async','except','lambda','with','await','finally','nonlocal','yield','break','for','not']\n",
        "\n",
        "if a in b:\n",
        "  print(\"It is a keyword\")\n",
        "else:\n",
        "  print(\"It is not a keyword\")"
      ],
      "metadata": {
        "colab": {
          "base_uri": "https://localhost:8080/"
        },
        "id": "dmtRZgSOzvOc",
        "outputId": "69d1cd6f-3e49-4eee-db34-1830f66d0164"
      },
      "execution_count": null,
      "outputs": [
        {
          "output_type": "stream",
          "name": "stdout",
          "text": [
            "Enter the word to check either it is keyword or notCLASS\n",
            "It is a keyword\n"
          ]
        }
      ]
    },
    {
      "cell_type": "code",
      "source": [
        "##5.Create a list and tuple in Python, and demonstrate how attempting to change an element works differently for each.\n",
        "\n",
        "\n",
        "create_list = [1,2,3,4,5]  # this is a list\n",
        "\n",
        "create_tuple = (1,2,3,4,5) # this is a tuple\n",
        "\n",
        "create_list[3]= 300\n",
        "print(\"New create_list:\", create_list)\n",
        "\n",
        "create_list[-1]= \"shravan\"\n",
        "print(\"New create_list:\", create_list)\n",
        "# list is mutable that why is works and we can add anything is the list\n",
        "\n",
        "'''create_tuple[3] = 300\n",
        "print(\"New create_tuple:\", create_tuple) '''\n",
        "# tuple is immutable thats why it give us an error\n",
        "\n",
        "\n",
        "\n"
      ],
      "metadata": {
        "colab": {
          "base_uri": "https://localhost:8080/",
          "height": 70
        },
        "id": "sf6wlnn35Dwv",
        "outputId": "012d11cb-4795-4b3f-c77f-3eda3c8e6f98"
      },
      "execution_count": null,
      "outputs": [
        {
          "output_type": "stream",
          "name": "stdout",
          "text": [
            "New create_list: [1, 2, 3, 300, 5]\n",
            "New create_list: [1, 2, 3, 300, 'shravan']\n"
          ]
        },
        {
          "output_type": "execute_result",
          "data": {
            "text/plain": [
              "'create_tuple[3] = 300 \\nprint(\"New create_tuple:\", create_tuple) '"
            ],
            "application/vnd.google.colaboratory.intrinsic+json": {
              "type": "string"
            }
          },
          "metadata": {},
          "execution_count": 9
        }
      ]
    },
    {
      "cell_type": "code",
      "source": [
        "#6,7. Write a function to demonstrate the behavior of mutable and immutable arguments\n",
        "\n",
        "create_list = [1,2,3,4,5]  # this is a list\n",
        "\n",
        "create_tuple = (1,2,3,4,5) # this is a tuple\n",
        "\n",
        "create_list[3]= 300\n",
        "print(\"New create_list:\", create_list)  # list is mutable that why is works\n",
        "\n",
        "'''create_tuple[3] = 300\n",
        "print(\"New create_tuple:\", create_tuple) '''\n",
        "# tuple is immutable thats why it give us an error\n"
      ],
      "metadata": {
        "id": "lMaWelDj71v9"
      },
      "execution_count": null,
      "outputs": []
    },
    {
      "cell_type": "code",
      "source": [
        "#8.  Write a program to demonstrate the use of logical operators.\n",
        "\n",
        "a = int(input(\"Enter the a:\"))\n",
        "b = int(input(\"Enter the b:\"))\n",
        "\n",
        "if a > b and a==b:\n",
        "  print(\"a is greater than b\")\n",
        "elif a < b or a!=b:\n",
        "  print(\"a is less than b\")\n",
        "else:\n",
        "  print(\"a is equal to b\")\n",
        "\n"
      ],
      "metadata": {
        "colab": {
          "base_uri": "https://localhost:8080/"
        },
        "id": "gvBac4CD8Vol",
        "outputId": "4ab08077-c630-4df5-8a2e-cd5ecb9a3bd7"
      },
      "execution_count": null,
      "outputs": [
        {
          "output_type": "stream",
          "name": "stdout",
          "text": [
            "Enter the a:34\n",
            "Enter the b:33\n",
            "a is less than b\n"
          ]
        }
      ]
    },
    {
      "cell_type": "code",
      "source": [
        "# 9. Write a Python program to convert user input from string to integer, float, and boolean types.\n",
        "\n",
        "a = input(\"enter the number : \")\n",
        "a= int(a)\n",
        "print(type(a))\n",
        "b = float(a)\n",
        "print(type(b))\n",
        "c = bool(a)\n",
        "print(type(c))\n"
      ],
      "metadata": {
        "colab": {
          "base_uri": "https://localhost:8080/"
        },
        "id": "PTXsWPF3-LtQ",
        "outputId": "1938183f-1e2a-4148-984c-8b3f84aa021b"
      },
      "execution_count": null,
      "outputs": [
        {
          "output_type": "stream",
          "name": "stdout",
          "text": [
            "enter the number : 34\n",
            "<class 'int'>\n",
            "<class 'float'>\n",
            "<class 'bool'>\n"
          ]
        }
      ]
    },
    {
      "cell_type": "code",
      "source": [
        "# 10. Write code to demonstrate type casting with list elements\n",
        "\n",
        "a = [ 1 ,'Shravan','34','True','False',34.44,344.33,34,56,67]\n",
        "\n",
        "a[2] = int(a[2])\n",
        "print(a)\n",
        "print(\"type string '34' into string :\",type(a[2]))\n",
        "\n"
      ],
      "metadata": {
        "colab": {
          "base_uri": "https://localhost:8080/"
        },
        "id": "I5qnFkYX_EsK",
        "outputId": "11b8e06a-5155-4568-8881-c38b23e66abf"
      },
      "execution_count": null,
      "outputs": [
        {
          "output_type": "stream",
          "name": "stdout",
          "text": [
            "[1, 'Shravan', 34, 'True', 'False', 34.44, 344.33, 34, 56, 67]\n",
            "type string '34' into string : <class 'int'>\n"
          ]
        }
      ]
    },
    {
      "cell_type": "code",
      "source": [
        "# 11. Write a program that checks if a number is positive, negative, or zero\n",
        "\n",
        "a = int(input(\"Enter the number to be checked: \"))\n",
        "\n",
        "if a >0:\n",
        "  print(\"It is a Positive Number\")\n",
        "elif a == 0:\n",
        "  print(\"It is a Zero Number\")\n",
        "else:\n",
        "  print(\"It is Negative Number\")"
      ],
      "metadata": {
        "colab": {
          "base_uri": "https://localhost:8080/"
        },
        "id": "y9IpkX4h75at",
        "outputId": "bd7e9b8c-9f88-4fa6-83b6-4ecae22a73bd"
      },
      "execution_count": null,
      "outputs": [
        {
          "output_type": "stream",
          "name": "stdout",
          "text": [
            "Enter the number to be checked: 34\n",
            "It is a Positive Number\n"
          ]
        }
      ]
    },
    {
      "cell_type": "code",
      "source": [
        "# 12. Write a for loop to print numbers from 1 to 10\n",
        "\n",
        "a =11\n",
        "\n",
        "for i in range(1,a) :\n",
        "  print(i)\n"
      ],
      "metadata": {
        "colab": {
          "base_uri": "https://localhost:8080/"
        },
        "id": "whlR2CYe-_Zx",
        "outputId": "62d54756-7d6a-4471-8c98-1a2bf737f17f"
      },
      "execution_count": null,
      "outputs": [
        {
          "output_type": "stream",
          "name": "stdout",
          "text": [
            "1\n",
            "2\n",
            "3\n",
            "4\n",
            "5\n",
            "6\n",
            "7\n",
            "8\n",
            "9\n",
            "10\n"
          ]
        }
      ]
    },
    {
      "cell_type": "code",
      "source": [
        "#13. Write a Python program to find the sum of all even numbers between 1 and 50.\n",
        "\n",
        "\n",
        "even_sum = 0\n",
        "\n",
        "for i in range(1,51):\n",
        "  if i % 2 == 0:\n",
        "    even_sum += i\n",
        "\n",
        "print(even_sum)\n"
      ],
      "metadata": {
        "colab": {
          "base_uri": "https://localhost:8080/"
        },
        "id": "SghRJO7kkDCt",
        "outputId": "3b10349c-a49c-41ea-ed7e-ca6a2629759f"
      },
      "execution_count": 8,
      "outputs": [
        {
          "output_type": "stream",
          "name": "stdout",
          "text": [
            "650\n"
          ]
        }
      ]
    },
    {
      "cell_type": "code",
      "source": [
        " #14.Write a program to reverse a string using a while loop.\n",
        "\n",
        "\n",
        "a = input(\"Enter the word\")\n",
        "inverse_a = ''\n",
        "\n",
        "i = len(a)-1\n",
        "while i >= 0:\n",
        "  inverse_a = inverse_a + a[i]\n",
        "  i= i-1\n",
        "\n",
        "print(inverse_a)\n",
        "\n",
        "\n",
        "\n",
        "\n",
        "\n",
        "\n",
        ""
      ],
      "metadata": {
        "colab": {
          "base_uri": "https://localhost:8080/"
        },
        "id": "2mu9hAy0nyPN",
        "outputId": "0be2835a-d556-4bea-fb99-de475b3a1b64"
      },
      "execution_count": 11,
      "outputs": [
        {
          "output_type": "stream",
          "name": "stdout",
          "text": [
            "Enter the wordlop\n",
            "pol\n"
          ]
        }
      ]
    },
    {
      "cell_type": "code",
      "source": [
        "#15.Write a Python program to calculate the factorial of a number provided by the user using a while loop.\n",
        "\n",
        "a = int(input(\"Enter the number: \"))\n",
        "\n",
        "b = a-1\n",
        "while b >0:\n",
        "  a = a*b\n",
        "  b=b-1\n",
        "\n",
        "print(a)\n"
      ],
      "metadata": {
        "colab": {
          "base_uri": "https://localhost:8080/"
        },
        "id": "YwPfGaTHrZgl",
        "outputId": "897192f6-b6cd-4365-a913-fa2834be2245"
      },
      "execution_count": 15,
      "outputs": [
        {
          "output_type": "stream",
          "name": "stdout",
          "text": [
            "Enter the number5\n",
            "120\n"
          ]
        }
      ]
    },
    {
      "cell_type": "code",
      "source": [],
      "metadata": {
        "id": "JtDL6jyc_nfO"
      },
      "execution_count": null,
      "outputs": []
    }
  ]
}